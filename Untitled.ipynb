{
 "cells": [
  {
   "cell_type": "code",
   "execution_count": 3,
   "id": "790bb9a4-1b69-4145-8e8f-8484458f07fd",
   "metadata": {},
   "outputs": [],
   "source": [
    "import numpy as np\n",
    "np.random.seed(1)"
   ]
  },
  {
   "cell_type": "code",
   "execution_count": 4,
   "id": "6bd6ea31-95b7-416b-b092-f888e6d0f816",
   "metadata": {},
   "outputs": [],
   "source": [
    "# do not modify\n",
    "np.random.seed(100)\n",
    "x = np.random.randint(100,size = 30).reshape(10,3)"
   ]
  },
  {
   "cell_type": "code",
   "execution_count": 6,
   "id": "35b0f8e1-bef2-40bd-9277-883249b50736",
   "metadata": {},
   "outputs": [
    {
     "name": "stdout",
     "output_type": "stream",
     "text": [
      "[[ 8 24 67]\n",
      " [87 79 48]\n",
      " [10 94 52]\n",
      " [98 53 66]\n",
      " [98 14 34]\n",
      " [24 15 60]\n",
      " [58 16  9]\n",
      " [93 86  2]\n",
      " [27  4 31]\n",
      " [ 1 13 83]]\n"
     ]
    }
   ],
   "source": [
    "print(x)"
   ]
  },
  {
   "cell_type": "code",
   "execution_count": 17,
   "id": "8ebae1ea-94ee-4925-b4f4-0e9ed3996e37",
   "metadata": {},
   "outputs": [
    {
     "name": "stdout",
     "output_type": "stream",
     "text": [
      "[[ 8. 24. 67.]\n",
      " [87. 79. 48.]\n",
      " [10. 94. 52.]\n",
      " [98. 53. 66.]\n",
      " [98. 14. 34.]\n",
      " [24. 15. 60.]\n",
      " [58. 16.  9.]\n",
      " [93. 86.  2.]\n",
      " [27.  4. 31.]\n",
      " [ 1. 13. 83.]]\n"
     ]
    }
   ],
   "source": [
    "y = x.copy().astype(float)\n",
    "print(y)"
   ]
  },
  {
   "cell_type": "code",
   "execution_count": 18,
   "id": "8e50698e-4013-43bd-a46d-51d36ffb94bf",
   "metadata": {},
   "outputs": [
    {
     "name": "stdout",
     "output_type": "stream",
     "text": [
      "[ 8. 87. 10. 98. 98. 24. 58. 93. 27.  1.]\n",
      "[24. 79. 94. 53. 14. 15. 16. 86.  4. 13.]\n",
      "[67. 48. 52. 66. 34. 60.  9.  2. 31. 83.]\n"
     ]
    }
   ],
   "source": [
    "print(y[:, 0])\n",
    "print(y[:, 1])\n",
    "print(y[:, 2])"
   ]
  },
  {
   "cell_type": "code",
   "execution_count": 19,
   "id": "118c81af-4241-4c1b-a2fb-174272762235",
   "metadata": {},
   "outputs": [
    {
     "data": {
      "text/plain": [
       "1.0"
      ]
     },
     "execution_count": 19,
     "metadata": {},
     "output_type": "execute_result"
    }
   ],
   "source": [
    "np.min(y[:, 0])"
   ]
  },
  {
   "cell_type": "code",
   "execution_count": 20,
   "id": "ee0fae74-5062-4935-99d7-f38f3a6fbde8",
   "metadata": {},
   "outputs": [
    {
     "name": "stdout",
     "output_type": "stream",
     "text": [
      "[ 0.72164948  8.86597938  0.92783505 10.         10.          2.37113402\n",
      "  5.87628866  9.48453608  2.68041237  0.        ]\n"
     ]
    }
   ],
   "source": [
    "print((y[:, 0] - np.min(y[:, 0])) / (np.max(y[:, 0]) - np.min(y[:, 0])) * 10)"
   ]
  },
  {
   "cell_type": "code",
   "execution_count": 21,
   "id": "2f5d4673-42a8-427c-a370-6101fff8c908",
   "metadata": {},
   "outputs": [],
   "source": [
    "y[:, 0] = ((x[:, 0] - np.min(x[:, 0])) / (np.max(x[:, 0]) - np.min(x[:, 0])) * 10)"
   ]
  },
  {
   "cell_type": "code",
   "execution_count": 23,
   "id": "4f371f85-8b85-48cd-8886-896317317782",
   "metadata": {},
   "outputs": [
    {
     "name": "stdout",
     "output_type": "stream",
     "text": [
      "[[ 0.72 24.   67.  ]\n",
      " [ 8.87 79.   48.  ]\n",
      " [ 0.93 94.   52.  ]\n",
      " [10.   53.   66.  ]\n",
      " [10.   14.   34.  ]\n",
      " [ 2.37 15.   60.  ]\n",
      " [ 5.88 16.    9.  ]\n",
      " [ 9.48 86.    2.  ]\n",
      " [ 2.68  4.   31.  ]\n",
      " [ 0.   13.   83.  ]]\n"
     ]
    }
   ],
   "source": [
    "print(y.round(2))"
   ]
  },
  {
   "cell_type": "code",
   "execution_count": null,
   "id": "cce9c397-2c64-436a-9d3c-fee7f11f9ec4",
   "metadata": {},
   "outputs": [],
   "source": []
  }
 ],
 "metadata": {
  "kernelspec": {
   "display_name": "Python 3 (ipykernel)",
   "language": "python",
   "name": "python3"
  },
  "language_info": {
   "codemirror_mode": {
    "name": "ipython",
    "version": 3
   },
   "file_extension": ".py",
   "mimetype": "text/x-python",
   "name": "python",
   "nbconvert_exporter": "python",
   "pygments_lexer": "ipython3",
   "version": "3.9.12"
  }
 },
 "nbformat": 4,
 "nbformat_minor": 5
}
